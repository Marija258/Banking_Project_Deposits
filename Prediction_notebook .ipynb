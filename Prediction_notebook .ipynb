{
 "cells": [
  {
   "cell_type": "markdown",
   "metadata": {},
   "source": [
    "# Bank data analysis (Term bank deposit) - PREDICTION"
   ]
  },
  {
   "cell_type": "code",
   "execution_count": null,
   "metadata": {},
   "outputs": [],
   "source": [
    "import pandas as pd\n",
    "import sklearn\n",
    "import pickle\n",
    "\n",
    "import warnings\n",
    "warnings.filterwarnings('ignore')"
   ]
  },
  {
   "cell_type": "markdown",
   "metadata": {},
   "source": [
    "# 1. Sample for prediction"
   ]
  },
  {
   "cell_type": "code",
   "execution_count": 2,
   "metadata": {},
   "outputs": [],
   "source": [
    "df = pd.read_csv('dataset for pred.csv', sep=';', header=0)\n",
    "df.head(1)\n",
    "\n",
    "X_test = df[:1]"
   ]
  },
  {
   "cell_type": "code",
   "execution_count": 3,
   "metadata": {},
   "outputs": [],
   "source": [
    "X_test\n",
    "y_test = X_test['y']\n",
    "X_test.drop(['y'], axis=1, inplace=True)\n",
    "X_test.drop(['duration'],axis=1, inplace=True)\n",
    "y_test = pd.DataFrame(y_test)"
   ]
  },
  {
   "cell_type": "markdown",
   "metadata": {},
   "source": [
    "# 2. Sample  Preprocessing "
   ]
  },
  {
   "cell_type": "markdown",
   "metadata": {},
   "source": [
    "### Preprocessing of numerical data"
   ]
  },
  {
   "cell_type": "code",
   "execution_count": 4,
   "metadata": {},
   "outputs": [],
   "source": [
    "from sklearn.preprocessing import RobustScaler\n",
    "\n",
    "columns = ['age','cons.price.idx','cons.conf.idx','euribor3m','campaign']\n",
    "transformer = RobustScaler()\n",
    "\n",
    "X_test[columns] = transformer.fit_transform(X_test[columns])"
   ]
  },
  {
   "cell_type": "code",
   "execution_count": 5,
   "metadata": {},
   "outputs": [],
   "source": [
    "from sklearn.preprocessing import Normalizer\n",
    "import numpy as np \n",
    "\n",
    "columns = ['previous','pdays']\n",
    "normalizer = Normalizer(norm='l2') \n",
    "X_test[columns] = normalizer.fit_transform(X_test[columns])"
   ]
  },
  {
   "cell_type": "markdown",
   "metadata": {},
   "source": [
    "### Preprocessing of categorical data\n"
   ]
  },
  {
   "cell_type": "code",
   "execution_count": 6,
   "metadata": {},
   "outputs": [],
   "source": [
    "from sklearn.preprocessing import LabelEncoder\n",
    "\n",
    "column = 'y'\n",
    "transformer = LabelEncoder()\n",
    "fitted_model = transformer.fit(['yes', 'no'])\n",
    "y_test = y_test.assign(y_label_sklearn=fitted_model.transform(y_test['y']))"
   ]
  },
  {
   "cell_type": "code",
   "execution_count": null,
   "metadata": {},
   "outputs": [],
   "source": [
    "y_test.drop(['y'], axis=1, inplace=True)"
   ]
  },
  {
   "cell_type": "code",
   "execution_count": 8,
   "metadata": {},
   "outputs": [],
   "source": [
    "import category_encoders as ce\n",
    "\n",
    "cat_features = ['job','marital','default', 'housing', 'loan', 'poutcome', 'contact','education', 'month', 'day_of_week']\n",
    "count_encoder = ce.CatBoostEncoder(cols=cat_features)\n",
    "X_test[cat_features] = count_encoder.fit_transform(X_test[cat_features], y_test)"
   ]
  },
  {
   "cell_type": "markdown",
   "metadata": {},
   "source": [
    "# 3. Prediction"
   ]
  },
  {
   "cell_type": "code",
   "execution_count": 13,
   "metadata": {},
   "outputs": [
    {
     "name": "stdout",
     "output_type": "stream",
     "text": [
      "The client will subscribe to term deposit: ['no']\n"
     ]
    }
   ],
   "source": [
    "Loaded_model = pickle.load(open('Model_Term_Deposit_Subscription','rb'))\n",
    "\n",
    "prediction = Loaded_model.predict(X_test)\n",
    "prediction = transformer.inverse_transform(prediction)\n",
    "print(\"The client will subscribe to term deposit:\",prediction)"
   ]
  }
 ],
 "metadata": {
  "kernelspec": {
   "display_name": "Python 3",
   "language": "python",
   "name": "python3"
  },
  "language_info": {
   "codemirror_mode": {
    "name": "ipython",
    "version": 3
   },
   "file_extension": ".py",
   "mimetype": "text/x-python",
   "name": "python",
   "nbconvert_exporter": "python",
   "pygments_lexer": "ipython3",
   "version": "3.8.3"
  }
 },
 "nbformat": 4,
 "nbformat_minor": 4
}
